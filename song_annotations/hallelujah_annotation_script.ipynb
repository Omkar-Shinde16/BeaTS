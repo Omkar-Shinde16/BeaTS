{
 "cells": [
  {
   "cell_type": "code",
   "execution_count": 9,
   "metadata": {},
   "outputs": [],
   "source": [
    "with open('hallelujah_prelim.txt', 'r') as f:\n",
    "    lines = f.readlines()\n",
    "    \n",
    "\n",
    "\n",
    "\n"
   ]
  },
  {
   "cell_type": "code",
   "execution_count": 10,
   "metadata": {},
   "outputs": [
    {
     "data": {
      "text/plain": [
       "['9 c8\\n',\n",
       " '11 a\\n',\n",
       " '13 c8\\n',\n",
       " '15 a\\n',\n",
       " '17 f\\n',\n",
       " '19 g\\n',\n",
       " '21 c8\\n',\n",
       " '23 g\\n',\n",
       " '25 c8\\n',\n",
       " '27 f\\n',\n",
       " '28 g\\n',\n",
       " '29 a\\n',\n",
       " '31 f\\n',\n",
       " '33 g\\n',\n",
       " '35 e \\n',\n",
       " '37 a\\n',\n",
       " '41 f\\n',\n",
       " '45 a\\n',\n",
       " '49 f\\n',\n",
       " '53 c8\\n',\n",
       " '55 g\\n']"
      ]
     },
     "execution_count": 10,
     "metadata": {},
     "output_type": "execute_result"
    }
   ],
   "source": [
    "lines"
   ]
  },
  {
   "cell_type": "code",
   "execution_count": 17,
   "metadata": {},
   "outputs": [],
   "source": [
    "new_lines = list(lines)\n",
    "for line in lines:\n",
    "    x = line.split(' ')\n",
    "    x[0] = int(x[0]) + 56\n",
    "    new_lines.append(str(x[0]) + ' ' + x[1])\n"
   ]
  },
  {
   "cell_type": "code",
   "execution_count": 18,
   "metadata": {},
   "outputs": [
    {
     "data": {
      "text/plain": [
       "['9 c8\\n',\n",
       " '11 a\\n',\n",
       " '13 c8\\n',\n",
       " '15 a\\n',\n",
       " '17 f\\n',\n",
       " '19 g\\n',\n",
       " '21 c8\\n',\n",
       " '23 g\\n',\n",
       " '25 c8\\n',\n",
       " '27 f\\n',\n",
       " '28 g\\n',\n",
       " '29 a\\n',\n",
       " '31 f\\n',\n",
       " '33 g\\n',\n",
       " '35 e \\n',\n",
       " '37 a\\n',\n",
       " '41 f\\n',\n",
       " '45 a\\n',\n",
       " '49 f\\n',\n",
       " '53 c8\\n',\n",
       " '55 g\\n',\n",
       " '65 c8\\n',\n",
       " '67 a\\n',\n",
       " '69 c8\\n',\n",
       " '71 a\\n',\n",
       " '73 f\\n',\n",
       " '75 g\\n',\n",
       " '77 c8\\n',\n",
       " '79 g\\n',\n",
       " '81 c8\\n',\n",
       " '83 f\\n',\n",
       " '84 g\\n',\n",
       " '85 a\\n',\n",
       " '87 f\\n',\n",
       " '89 g\\n',\n",
       " '91 e',\n",
       " '93 a\\n',\n",
       " '97 f\\n',\n",
       " '101 a\\n',\n",
       " '105 f\\n',\n",
       " '109 c8\\n',\n",
       " '111 g\\n']"
      ]
     },
     "execution_count": 18,
     "metadata": {},
     "output_type": "execute_result"
    }
   ],
   "source": [
    "new_lines"
   ]
  },
  {
   "cell_type": "code",
   "execution_count": 19,
   "metadata": {},
   "outputs": [],
   "source": [
    "file = ''\n",
    "for l in new_lines:\n",
    "    file += l\n",
    "with open('hallelujah_left_hand.txt', 'w') as f:\n",
    "    f.write(file)"
   ]
  },
  {
   "cell_type": "code",
   "execution_count": 37,
   "metadata": {},
   "outputs": [],
   "source": [
    "with open('hallelujah_left_hand.txt', 'r') as f:\n",
    "    lines = f.readlines()\n",
    "    "
   ]
  },
  {
   "cell_type": "code",
   "execution_count": 38,
   "metadata": {},
   "outputs": [],
   "source": [
    "new_lines = []\n",
    "for line in lines:\n",
    "    x = line.split(' ')\n",
    "    beat = x[0]\n",
    "    time = round((int(beat)- 1)*(1/0.9), 5)\n",
    "    new_lines.append(str(time) + ' ' + x[1])\n",
    "    "
   ]
  },
  {
   "cell_type": "code",
   "execution_count": 39,
   "metadata": {},
   "outputs": [
    {
     "data": {
      "text/plain": [
       "['8.88889 c8\\n',\n",
       " '11.11111 a\\n',\n",
       " '13.33333 c8\\n',\n",
       " '15.55556 a\\n',\n",
       " '17.77778 f\\n',\n",
       " '20.0 g\\n',\n",
       " '22.22222 c8\\n',\n",
       " '24.44444 g\\n',\n",
       " '26.66667 c8\\n',\n",
       " '28.88889 f\\n',\n",
       " '30.0 g\\n',\n",
       " '31.11111 a\\n',\n",
       " '33.33333 f\\n',\n",
       " '35.55556 g\\n',\n",
       " '37.77778 e\\n',\n",
       " '40.0 a\\n',\n",
       " '44.44444 f\\n',\n",
       " '48.88889 a\\n',\n",
       " '53.33333 f\\n',\n",
       " '57.77778 c8\\n',\n",
       " '60.0 g\\n',\n",
       " '71.11111 c8\\n',\n",
       " '73.33333 a\\n',\n",
       " '75.55556 c8\\n',\n",
       " '77.77778 a\\n',\n",
       " '80.0 f\\n',\n",
       " '82.22222 g\\n',\n",
       " '84.44444 c8\\n',\n",
       " '86.66667 g\\n',\n",
       " '88.88889 c8\\n',\n",
       " '91.11111 f\\n',\n",
       " '92.22222 g\\n',\n",
       " '93.33333 a\\n',\n",
       " '95.55556 f\\n',\n",
       " '97.77778 g\\n',\n",
       " '100.0 e\\n',\n",
       " '102.22222 a\\n',\n",
       " '106.66667 f\\n',\n",
       " '111.11111 a\\n',\n",
       " '115.55556 f\\n',\n",
       " '120.0 c8\\n',\n",
       " '122.22222 g\\n']"
      ]
     },
     "execution_count": 39,
     "metadata": {},
     "output_type": "execute_result"
    }
   ],
   "source": [
    "new_lines"
   ]
  },
  {
   "cell_type": "code",
   "execution_count": 40,
   "metadata": {},
   "outputs": [],
   "source": [
    "with open('hallelujah_test.txt', 'w') as f:\n",
    "    for line in new_lines:\n",
    "        f.write(line)"
   ]
  },
  {
   "cell_type": "code",
   "execution_count": 42,
   "metadata": {},
   "outputs": [],
   "source": [
    "with open('hallelujah_right_hand.txt', 'r') as f:\n",
    "    lines = f.readlines()"
   ]
  },
  {
   "cell_type": "code",
   "execution_count": 43,
   "metadata": {},
   "outputs": [],
   "source": [
    "annotations = [line.split(' ') for line in lines]"
   ]
  },
  {
   "cell_type": "code",
   "execution_count": 46,
   "metadata": {},
   "outputs": [
    {
     "data": {
      "text/plain": [
       "[['8.3', 'e\\n'],\n",
       " ['9', 'g\\n'],\n",
       " ['9.3', 'g\\n'],\n",
       " ['10', 'g\\n'],\n",
       " ['10.3', 'g\\n'],\n",
       " ['11', 'a\\n'],\n",
       " ['11.2', 'a\\n'],\n",
       " ['11.3', 'a\\n'],\n",
       " ['12.3', 'e\\n'],\n",
       " ['13', 'g\\n'],\n",
       " ['13.3', 'g\\n'],\n",
       " ['14', 'g\\n'],\n",
       " ['14.3', 'g\\n'],\n",
       " ['15', 'a\\n'],\n",
       " ['16', 'a\\n'],\n",
       " ['16.3', 'g\\n'],\n",
       " ['17', 'a\\n'],\n",
       " ['18.3', 'a\\n'],\n",
       " ['19', 'a\\n'],\n",
       " ['19.3', 'g\\n'],\n",
       " ['20.3', 'e\\n'],\n",
       " ['21', 'e\\n'],\n",
       " ['24.3', 'e\\n'],\n",
       " ['25', 'g\\n'],\n",
       " ['26.3', 'g\\n'],\n",
       " ['27', 'a\\n'],\n",
       " ['27.3', 'a\\n'],\n",
       " ['28', 'b\\n'],\n",
       " ['29', 'c8\\n'],\n",
       " ['30.2', 'a\\n'],\n",
       " ['30.3', 'g\\n'],\n",
       " ['31', 'c8\\n'],\n",
       " ['31.2', 'c8\\n'],\n",
       " ['31.3', 'd\\n'],\n",
       " ['32.3', 'c\\n'],\n",
       " ['33', 'd\\n'],\n",
       " ['34', 'd\\n'],\n",
       " ['34.3', 'c\\n'],\n",
       " ['35', 'e\\n'],\n",
       " ['36', 'e\\n'],\n",
       " ['36.3', 'd\\n'],\n",
       " ['37', 'd\\n'],\n",
       " ['37.3', 'c\\n'],\n",
       " ['40', 'e\\n'],\n",
       " ['40.3', 'g\\n'],\n",
       " ['41', 'g\\n'],\n",
       " ['41.2', 'a\\n'],\n",
       " ['42', 'a\\n'],\n",
       " ['44', 'a\\n'],\n",
       " ['44.3', 'g\\n'],\n",
       " ['45', 'e\\n'],\n",
       " ['46', 'e\\n'],\n",
       " ['48', 'e\\n'],\n",
       " ['48.3', 'g\\n'],\n",
       " ['49', 'a\\n'],\n",
       " ['50', 'a\\n'],\n",
       " ['52', 'a\\n'],\n",
       " ['52.3', 'g\\n'],\n",
       " ['53', 'e\\n'],\n",
       " ['54.2', 'f\\n'],\n",
       " ['54.3', 'e\\n'],\n",
       " ['55', 'd\\n'],\n",
       " ['56.3', 'c\\n'],\n",
       " ['57', 'c']]"
      ]
     },
     "execution_count": 46,
     "metadata": {},
     "output_type": "execute_result"
    }
   ],
   "source": [
    "annotations"
   ]
  },
  {
   "cell_type": "code",
   "execution_count": 49,
   "metadata": {},
   "outputs": [],
   "source": [
    "new_lines = []\n",
    "for beat, note in annotations:\n",
    "    beat = beat.split('.')\n",
    "    time = round((int(beat[0])- 1)*(1/0.9), 5)\n",
    "    if len(beat) > 1:\n",
    "        time += round((int(beat[1])- 1)*(1/2.7), 5)\n",
    "    new_lines.append(str(time) + ' ' + note)\n"
   ]
  },
  {
   "cell_type": "code",
   "execution_count": 50,
   "metadata": {},
   "outputs": [
    {
     "data": {
      "text/plain": [
       "['8.51852 e\\n',\n",
       " '8.88889 g\\n',\n",
       " '9.62963 g\\n',\n",
       " '10.0 g\\n',\n",
       " '10.74074 g\\n',\n",
       " '11.11111 a\\n',\n",
       " '11.48148 a\\n',\n",
       " '11.85185 a\\n',\n",
       " '12.96296 e\\n',\n",
       " '13.33333 g\\n',\n",
       " '14.07407 g\\n',\n",
       " '14.44444 g\\n',\n",
       " '15.18518 g\\n',\n",
       " '15.55556 a\\n',\n",
       " '16.66667 a\\n',\n",
       " '17.40741 g\\n',\n",
       " '17.77778 a\\n',\n",
       " '19.62963 a\\n',\n",
       " '20.0 a\\n',\n",
       " '20.74074 g\\n',\n",
       " '21.85185 e\\n',\n",
       " '22.22222 e\\n',\n",
       " '26.2963 e\\n',\n",
       " '26.66667 g\\n',\n",
       " '28.51852 g\\n',\n",
       " '28.88889 a\\n',\n",
       " '29.62963 a\\n',\n",
       " '30.0 b\\n',\n",
       " '31.11111 c8\\n',\n",
       " '32.59259 a\\n',\n",
       " '32.96296 g\\n',\n",
       " '33.33333 c8\\n',\n",
       " '33.7037 c8\\n',\n",
       " '34.07407 d\\n',\n",
       " '35.18518 c\\n',\n",
       " '35.55556 d\\n',\n",
       " '36.66667 d\\n',\n",
       " '37.407410000000006 c\\n',\n",
       " '37.77778 e\\n',\n",
       " '38.88889 e\\n',\n",
       " '39.629630000000006 d\\n',\n",
       " '40.0 d\\n',\n",
       " '40.74074 c\\n',\n",
       " '43.33333 e\\n',\n",
       " '44.07407 g\\n',\n",
       " '44.44444 g\\n',\n",
       " '44.81481 a\\n',\n",
       " '45.55556 a\\n',\n",
       " '47.77778 a\\n',\n",
       " '48.51852 g\\n',\n",
       " '48.88889 e\\n',\n",
       " '50.0 e\\n',\n",
       " '52.22222 e\\n',\n",
       " '52.96296 g\\n',\n",
       " '53.33333 a\\n',\n",
       " '54.44444 a\\n',\n",
       " '56.66667 a\\n',\n",
       " '57.407410000000006 g\\n',\n",
       " '57.77778 e\\n',\n",
       " '59.259260000000005 f\\n',\n",
       " '59.629630000000006 e\\n',\n",
       " '60.0 d\\n',\n",
       " '61.85185 c\\n',\n",
       " '62.22222 c']"
      ]
     },
     "execution_count": 50,
     "metadata": {},
     "output_type": "execute_result"
    }
   ],
   "source": [
    "new_lines"
   ]
  },
  {
   "cell_type": "code",
   "execution_count": 51,
   "metadata": {},
   "outputs": [],
   "source": [
    "with open('hallelujah_right_hand_times.txt', 'w') as f:\n",
    "    for line in new_lines:\n",
    "        f.write(line)"
   ]
  },
  {
   "cell_type": "code",
   "execution_count": null,
   "metadata": {},
   "outputs": [],
   "source": []
  },
  {
   "cell_type": "code",
   "execution_count": null,
   "metadata": {},
   "outputs": [],
   "source": []
  },
  {
   "cell_type": "code",
   "execution_count": null,
   "metadata": {},
   "outputs": [],
   "source": []
  },
  {
   "cell_type": "code",
   "execution_count": 1,
   "metadata": {},
   "outputs": [],
   "source": [
    "with open('falling_left_hand_beats.txt', 'r') as f:\n",
    "    lines = f.readlines()"
   ]
  },
  {
   "cell_type": "code",
   "execution_count": 2,
   "metadata": {},
   "outputs": [
    {
     "data": {
      "text/plain": [
       "['1 c 2\\n',\n",
       " '3 g 0\\n',\n",
       " '5 a 0\\n',\n",
       " '9 f 1\\n',\n",
       " '11 c 2\\n',\n",
       " '13 g 0\\n',\n",
       " '17 f 0\\n',\n",
       " '19 g 0\\n',\n",
       " '21 a 0\\n',\n",
       " '23 f 0\\n',\n",
       " '25 c 2\\n',\n",
       " '27 g 0\\n',\n",
       " '29 c 2']"
      ]
     },
     "execution_count": 2,
     "metadata": {},
     "output_type": "execute_result"
    }
   ],
   "source": []
  },
  {
   "cell_type": "code",
   "execution_count": 7,
   "metadata": {},
   "outputs": [],
   "source": [
    "new_lines = []\n",
    "for line in lines:\n",
    "    beat, root, inv = line.split(' ')\n",
    "    time = round((int(beat)-1)*3*60/152, 5)\n",
    "    new_lines.append(str(time) + ' ' + root + ' ' + inv)"
   ]
  },
  {
   "cell_type": "code",
   "execution_count": 8,
   "metadata": {},
   "outputs": [
    {
     "data": {
      "text/plain": [
       "['0.0 c 2\\n',\n",
       " '2.36842 g 0\\n',\n",
       " '4.73684 a 0\\n',\n",
       " '9.47368 f 1\\n',\n",
       " '11.84211 c 2\\n',\n",
       " '14.21053 g 0\\n',\n",
       " '18.94737 f 0\\n',\n",
       " '21.31579 g 0\\n',\n",
       " '23.68421 a 0\\n',\n",
       " '26.05263 f 0\\n',\n",
       " '28.42105 c 2\\n',\n",
       " '30.78947 g 0\\n',\n",
       " '33.15789 c 2']"
      ]
     },
     "execution_count": 8,
     "metadata": {},
     "output_type": "execute_result"
    }
   ],
   "source": [
    "new_lines"
   ]
  },
  {
   "cell_type": "code",
   "execution_count": 9,
   "metadata": {},
   "outputs": [],
   "source": [
    "with open('falling_left_hand_test.txt', 'w') as f:\n",
    "    for line in new_lines:\n",
    "        f.write(line)"
   ]
  },
  {
   "cell_type": "code",
   "execution_count": null,
   "metadata": {},
   "outputs": [],
   "source": []
  },
  {
   "cell_type": "code",
   "execution_count": null,
   "metadata": {},
   "outputs": [],
   "source": []
  },
  {
   "cell_type": "code",
   "execution_count": null,
   "metadata": {},
   "outputs": [],
   "source": []
  },
  {
   "cell_type": "code",
   "execution_count": 14,
   "metadata": {},
   "outputs": [],
   "source": [
    "with open('falling_right_hand_beats.txt', 'r') as f:\n",
    "    lines = f.readlines()"
   ]
  },
  {
   "cell_type": "code",
   "execution_count": 15,
   "metadata": {},
   "outputs": [],
   "source": [
    "annotations = [line.split(' ') for line in lines]"
   ]
  },
  {
   "cell_type": "code",
   "execution_count": 16,
   "metadata": {},
   "outputs": [
    {
     "data": {
      "text/plain": [
       "[['1', 'c\\n'],\n",
       " ['3', 'g\\n'],\n",
       " ['5', 'c\\n'],\n",
       " ['8', 'd\\n'],\n",
       " ['8.3', 'e\\n'],\n",
       " ['9', 'f\\n'],\n",
       " ['11', 'e\\n'],\n",
       " ['13', 'd\\n'],\n",
       " ['17', 'c\\n'],\n",
       " ['19', 'd\\n'],\n",
       " ['21', 'c\\n'],\n",
       " ['23', 'd\\n'],\n",
       " ['23.3', 'e\\n'],\n",
       " ['24.2', 'f\\n'],\n",
       " ['25', 'e\\n'],\n",
       " ['27', 'd\\n'],\n",
       " ['29', 'c']]"
      ]
     },
     "execution_count": 16,
     "metadata": {},
     "output_type": "execute_result"
    }
   ],
   "source": [
    "annotations"
   ]
  },
  {
   "cell_type": "code",
   "execution_count": 17,
   "metadata": {},
   "outputs": [],
   "source": [
    "new_lines = []\n",
    "for beat, note in annotations:\n",
    "    beat = beat.split('.')\n",
    "    time = round((int(beat[0])- 1)*(3*60/152), 5)\n",
    "    if len(beat) > 1:\n",
    "        time += round((int(beat[1])- 1)*(60/152), 5)\n",
    "    new_lines.append(str(time) + ' ' + note)\n"
   ]
  },
  {
   "cell_type": "code",
   "execution_count": 18,
   "metadata": {},
   "outputs": [
    {
     "data": {
      "text/plain": [
       "['0.0 c\\n',\n",
       " '2.36842 g\\n',\n",
       " '4.73684 c\\n',\n",
       " '8.28947 d\\n',\n",
       " '9.07894 e\\n',\n",
       " '9.47368 f\\n',\n",
       " '11.84211 e\\n',\n",
       " '14.21053 d\\n',\n",
       " '18.94737 c\\n',\n",
       " '21.31579 d\\n',\n",
       " '23.68421 c\\n',\n",
       " '26.05263 d\\n',\n",
       " '26.842100000000002 e\\n',\n",
       " '27.63158 f\\n',\n",
       " '28.42105 e\\n',\n",
       " '30.78947 d\\n',\n",
       " '33.15789 c']"
      ]
     },
     "execution_count": 18,
     "metadata": {},
     "output_type": "execute_result"
    }
   ],
   "source": [
    "new_lines"
   ]
  },
  {
   "cell_type": "code",
   "execution_count": 19,
   "metadata": {},
   "outputs": [],
   "source": [
    "with open('falling_right_hand_test.txt', 'w') as f:\n",
    "    for line in new_lines:\n",
    "        f.write(line)"
   ]
  },
  {
   "cell_type": "code",
   "execution_count": null,
   "metadata": {},
   "outputs": [],
   "source": []
  }
 ],
 "metadata": {
  "kernelspec": {
   "display_name": "Python 3",
   "language": "python",
   "name": "python3"
  },
  "language_info": {
   "codemirror_mode": {
    "name": "ipython",
    "version": 3
   },
   "file_extension": ".py",
   "mimetype": "text/x-python",
   "name": "python",
   "nbconvert_exporter": "python",
   "pygments_lexer": "ipython3",
   "version": "3.6.1"
  }
 },
 "nbformat": 4,
 "nbformat_minor": 2
}
